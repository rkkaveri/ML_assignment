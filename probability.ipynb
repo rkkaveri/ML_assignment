{
 "cells": [
  {
   "cell_type": "markdown",
   "metadata": {},
   "source": [
    "# Q.1 - Consider the below given probabilities: \n",
    "P(A) = 11 / 36 \n",
    "P(B) = 6 / 36 \n",
    "P(A|B) = 2 / 36 "
   ]
  },
  {
   "cell_type": "markdown",
   "metadata": {},
   "source": [
    "# Write a function in Python which takes 3 probabilities as argument and outputs the Conditional probability P(B|A). "
   ]
  },
  {
   "cell_type": "code",
   "execution_count": 5,
   "metadata": {},
   "outputs": [],
   "source": [
    "#solution for given set of values\n",
    "A=11/36\n",
    "B=6/36\n",
    "A_B=2/36"
   ]
  },
  {
   "cell_type": "code",
   "execution_count": 6,
   "metadata": {},
   "outputs": [
    {
     "data": {
      "text/plain": [
       "0.0303030303030303"
      ]
     },
     "execution_count": 6,
     "metadata": {},
     "output_type": "execute_result"
    }
   ],
   "source": [
    "B_A=(A_B*B)/A\n",
    "B_A"
   ]
  },
  {
   "cell_type": "code",
   "execution_count": 9,
   "metadata": {
    "scrolled": true
   },
   "outputs": [
    {
     "name": "stdout",
     "output_type": "stream",
     "text": [
      "Enter value of P(A) : 0.345\n",
      "Enter value of P(B) : 0.45\n",
      "Enter value of P(A/B) : 0.021\n"
     ]
    }
   ],
   "source": [
    "#solution for user defined values\n",
    "a=float(input(\"Enter value of P(A) : \"))\n",
    "b=float(input(\"Enter value of P(B) : \"))\n",
    "a_b=float(input(\"Enter value of P(A/B) : \"))"
   ]
  },
  {
   "cell_type": "code",
   "execution_count": 10,
   "metadata": {},
   "outputs": [
    {
     "data": {
      "text/plain": [
       "0.02739130434782609"
      ]
     },
     "execution_count": 10,
     "metadata": {},
     "output_type": "execute_result"
    }
   ],
   "source": [
    "b_a=(a_b*b)/a\n",
    "b_a"
   ]
  },
  {
   "cell_type": "markdown",
   "metadata": {},
   "source": [
    "# Q.2 - Bag I contains 4 white and 6 black balls while another Bag II contains 4 white and 3 black balls. One ball is drawn at random from one of the bags and it is found to be black. Find the probability that it was drawn from Bag I. "
   ]
  },
  {
   "cell_type": "code",
   "execution_count": 13,
   "metadata": {},
   "outputs": [
    {
     "data": {
      "text/plain": [
       "0.5833333333333334"
      ]
     },
     "execution_count": 13,
     "metadata": {},
     "output_type": "execute_result"
    }
   ],
   "source": [
    "#bag 1 with 4 white and 6 black balls and bag 2 with 4 white and 3 black balls\n",
    "bag1=1/2 #probability of selecting bag1\n",
    "bag2=1/2 #probability of selecting bag2\n",
    "black1=6/10 #probability of selecting black from bag1\n",
    "black2=3/7 #probability of selecting black from bag2\n",
    "\n",
    "prob=(bag1*black1)/((bag1*black1)+(bag2*black2))\n",
    "\n",
    "prob"
   ]
  },
  {
   "cell_type": "markdown",
   "metadata": {},
   "source": [
    "# Q.3 - A man is known to speak truth 2 out of 3 times. He throws a die and reports that number obtained is a four. Find the probability that the number obtained is actually a four. "
   ]
  },
  {
   "cell_type": "code",
   "execution_count": 14,
   "metadata": {},
   "outputs": [
    {
     "data": {
      "text/plain": [
       "0.2857142857142857"
      ]
     },
     "execution_count": 14,
     "metadata": {},
     "output_type": "execute_result"
    }
   ],
   "source": [
    "truth = 2/3\n",
    "lie = 1/3\n",
    "four = 1/6\n",
    "nofour = 5/6\n",
    "\n",
    "prob = (truth * four) / ((truth * four) + (lie * nofour))\n",
    "\n",
    "prob"
   ]
  },
  {
   "cell_type": "code",
   "execution_count": null,
   "metadata": {},
   "outputs": [],
   "source": []
  }
 ],
 "metadata": {
  "kernelspec": {
   "display_name": "Python 3",
   "language": "python",
   "name": "python3"
  },
  "language_info": {
   "codemirror_mode": {
    "name": "ipython",
    "version": 3
   },
   "file_extension": ".py",
   "mimetype": "text/x-python",
   "name": "python",
   "nbconvert_exporter": "python",
   "pygments_lexer": "ipython3",
   "version": "3.6.5"
  }
 },
 "nbformat": 4,
 "nbformat_minor": 2
}
